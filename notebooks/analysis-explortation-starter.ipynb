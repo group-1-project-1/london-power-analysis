{
 "cells": [
  {
   "cell_type": "markdown",
   "metadata": {},
   "source": [
    "# Import Dependencies"
   ]
  },
  {
   "cell_type": "code",
   "execution_count": 1,
   "metadata": {},
   "outputs": [],
   "source": [
    "%matplotlib inline\n",
    "import matplotlib.pyplot as plt\n",
    "import pandas as pd\n",
    "import os\n",
    "\n",
    "from pandas.plotting import register_matplotlib_converters\n",
    "register_matplotlib_converters()"
   ]
  },
  {
   "cell_type": "markdown",
   "metadata": {},
   "source": [
    "# Load Data"
   ]
  },
  {
   "cell_type": "code",
   "execution_count": 2,
   "metadata": {},
   "outputs": [],
   "source": [
    "year = 2013 # select the year \n",
    "month = 4   # select the month (1 to 12)\n",
    "\n",
    "# generate the data file path\n",
    "datapath = os.path.join('..','data', f'{year}-{month:02}-power-survey-london.csv')\n",
    "\n",
    "# load the data file into the variable 'data'\n",
    "data = pd.read_csv(datapath)"
   ]
  },
  {
   "cell_type": "code",
   "execution_count": 3,
   "metadata": {},
   "outputs": [
    {
     "data": {
      "text/html": [
       "<div>\n",
       "<style scoped>\n",
       "    .dataframe tbody tr th:only-of-type {\n",
       "        vertical-align: middle;\n",
       "    }\n",
       "\n",
       "    .dataframe tbody tr th {\n",
       "        vertical-align: top;\n",
       "    }\n",
       "\n",
       "    .dataframe thead th {\n",
       "        text-align: right;\n",
       "    }\n",
       "</style>\n",
       "<table border=\"1\" class=\"dataframe\">\n",
       "  <thead>\n",
       "    <tr style=\"text-align: right;\">\n",
       "      <th></th>\n",
       "      <th>datetime</th>\n",
       "      <th>A_sigma</th>\n",
       "      <th>B_sigma</th>\n",
       "      <th>C_sigma</th>\n",
       "      <th>D_sigma</th>\n",
       "      <th>E_sigma</th>\n",
       "      <th>F_sigma</th>\n",
       "      <th>G_sigma</th>\n",
       "      <th>H_sigma</th>\n",
       "      <th>I_sigma</th>\n",
       "      <th>...</th>\n",
       "      <th>M_count</th>\n",
       "      <th>N_count</th>\n",
       "      <th>O_count</th>\n",
       "      <th>P_count</th>\n",
       "      <th>Q_count</th>\n",
       "      <th>U_count</th>\n",
       "      <th>count</th>\n",
       "      <th>sigma</th>\n",
       "      <th>mean</th>\n",
       "      <th>std</th>\n",
       "    </tr>\n",
       "  </thead>\n",
       "  <tbody>\n",
       "    <tr>\n",
       "      <th>0</th>\n",
       "      <td>2013-04-01 00:00:00</td>\n",
       "      <td>40.840</td>\n",
       "      <td>3.789</td>\n",
       "      <td>19.493</td>\n",
       "      <td>51.862</td>\n",
       "      <td>306.766000</td>\n",
       "      <td>85.054</td>\n",
       "      <td>28.449</td>\n",
       "      <td>70.195</td>\n",
       "      <td>8.910</td>\n",
       "      <td>...</td>\n",
       "      <td>94</td>\n",
       "      <td>125</td>\n",
       "      <td>82</td>\n",
       "      <td>87</td>\n",
       "      <td>689</td>\n",
       "      <td>38</td>\n",
       "      <td>4304</td>\n",
       "      <td>941.212000</td>\n",
       "      <td>0.218683</td>\n",
       "      <td>0.463513</td>\n",
       "    </tr>\n",
       "    <tr>\n",
       "      <th>1</th>\n",
       "      <td>2013-04-01 00:30:00</td>\n",
       "      <td>36.638</td>\n",
       "      <td>3.287</td>\n",
       "      <td>15.706</td>\n",
       "      <td>45.930</td>\n",
       "      <td>274.089000</td>\n",
       "      <td>78.859</td>\n",
       "      <td>27.268</td>\n",
       "      <td>60.997</td>\n",
       "      <td>5.783</td>\n",
       "      <td>...</td>\n",
       "      <td>94</td>\n",
       "      <td>124</td>\n",
       "      <td>83</td>\n",
       "      <td>87</td>\n",
       "      <td>688</td>\n",
       "      <td>38</td>\n",
       "      <td>4303</td>\n",
       "      <td>851.359001</td>\n",
       "      <td>0.197852</td>\n",
       "      <td>0.430625</td>\n",
       "    </tr>\n",
       "    <tr>\n",
       "      <th>2</th>\n",
       "      <td>2013-04-01 01:00:00</td>\n",
       "      <td>36.141</td>\n",
       "      <td>3.243</td>\n",
       "      <td>15.027</td>\n",
       "      <td>38.620</td>\n",
       "      <td>259.023001</td>\n",
       "      <td>78.819</td>\n",
       "      <td>24.885</td>\n",
       "      <td>50.693</td>\n",
       "      <td>5.000</td>\n",
       "      <td>...</td>\n",
       "      <td>94</td>\n",
       "      <td>124</td>\n",
       "      <td>83</td>\n",
       "      <td>87</td>\n",
       "      <td>688</td>\n",
       "      <td>38</td>\n",
       "      <td>4303</td>\n",
       "      <td>794.454002</td>\n",
       "      <td>0.184628</td>\n",
       "      <td>0.408980</td>\n",
       "    </tr>\n",
       "    <tr>\n",
       "      <th>3</th>\n",
       "      <td>2013-04-01 01:30:00</td>\n",
       "      <td>32.853</td>\n",
       "      <td>3.115</td>\n",
       "      <td>15.012</td>\n",
       "      <td>36.101</td>\n",
       "      <td>245.566000</td>\n",
       "      <td>73.560</td>\n",
       "      <td>22.455</td>\n",
       "      <td>45.949</td>\n",
       "      <td>5.233</td>\n",
       "      <td>...</td>\n",
       "      <td>94</td>\n",
       "      <td>124</td>\n",
       "      <td>83</td>\n",
       "      <td>87</td>\n",
       "      <td>688</td>\n",
       "      <td>38</td>\n",
       "      <td>4303</td>\n",
       "      <td>735.903001</td>\n",
       "      <td>0.171021</td>\n",
       "      <td>0.381824</td>\n",
       "    </tr>\n",
       "    <tr>\n",
       "      <th>4</th>\n",
       "      <td>2013-04-01 02:00:00</td>\n",
       "      <td>32.486</td>\n",
       "      <td>3.196</td>\n",
       "      <td>14.806</td>\n",
       "      <td>33.285</td>\n",
       "      <td>224.879000</td>\n",
       "      <td>67.000</td>\n",
       "      <td>21.811</td>\n",
       "      <td>46.824</td>\n",
       "      <td>4.763</td>\n",
       "      <td>...</td>\n",
       "      <td>94</td>\n",
       "      <td>124</td>\n",
       "      <td>83</td>\n",
       "      <td>87</td>\n",
       "      <td>688</td>\n",
       "      <td>38</td>\n",
       "      <td>4303</td>\n",
       "      <td>680.711000</td>\n",
       "      <td>0.158195</td>\n",
       "      <td>0.343433</td>\n",
       "    </tr>\n",
       "  </tbody>\n",
       "</table>\n",
       "<p>5 rows × 59 columns</p>\n",
       "</div>"
      ],
      "text/plain": [
       "              datetime  A_sigma  B_sigma  C_sigma  D_sigma     E_sigma  \\\n",
       "0  2013-04-01 00:00:00   40.840    3.789   19.493   51.862  306.766000   \n",
       "1  2013-04-01 00:30:00   36.638    3.287   15.706   45.930  274.089000   \n",
       "2  2013-04-01 01:00:00   36.141    3.243   15.027   38.620  259.023001   \n",
       "3  2013-04-01 01:30:00   32.853    3.115   15.012   36.101  245.566000   \n",
       "4  2013-04-01 02:00:00   32.486    3.196   14.806   33.285  224.879000   \n",
       "\n",
       "   F_sigma  G_sigma  H_sigma  I_sigma  ...  M_count  N_count  O_count  \\\n",
       "0   85.054   28.449   70.195    8.910  ...       94      125       82   \n",
       "1   78.859   27.268   60.997    5.783  ...       94      124       83   \n",
       "2   78.819   24.885   50.693    5.000  ...       94      124       83   \n",
       "3   73.560   22.455   45.949    5.233  ...       94      124       83   \n",
       "4   67.000   21.811   46.824    4.763  ...       94      124       83   \n",
       "\n",
       "   P_count  Q_count  U_count  count       sigma      mean       std  \n",
       "0       87      689       38   4304  941.212000  0.218683  0.463513  \n",
       "1       87      688       38   4303  851.359001  0.197852  0.430625  \n",
       "2       87      688       38   4303  794.454002  0.184628  0.408980  \n",
       "3       87      688       38   4303  735.903001  0.171021  0.381824  \n",
       "4       87      688       38   4303  680.711000  0.158195  0.343433  \n",
       "\n",
       "[5 rows x 59 columns]"
      ]
     },
     "execution_count": 3,
     "metadata": {},
     "output_type": "execute_result"
    }
   ],
   "source": [
    "# preview data\n",
    "data.head()"
   ]
  },
  {
   "cell_type": "markdown",
   "metadata": {},
   "source": [
    "# Convert 'datetime' Column"
   ]
  },
  {
   "cell_type": "code",
   "execution_count": 4,
   "metadata": {},
   "outputs": [],
   "source": [
    "data['datetime'] = pd.to_datetime( data['datetime'] )"
   ]
  },
  {
   "cell_type": "markdown",
   "metadata": {},
   "source": [
    "# Plot Data"
   ]
  },
  {
   "cell_type": "code",
   "execution_count": 5,
   "metadata": {},
   "outputs": [
    {
     "data": {
      "image/png": "[encoded data removed]",
      "text/plain": [
       "<Figure size 432x288 with 1 Axes>"
      ]
     },
     "metadata": {
      "needs_background": "light"
     },
     "output_type": "display_data"
    }
   ],
   "source": [
    "start_day = 4  # day of the month to begin with \n",
    "end_day = 12   # day of the month to end with\n",
    "\n",
    "# extract indices for interesting data\n",
    "zoom_range = data['datetime'].apply(lambda date : start_day <= date.day and date.day <= end_day) \n",
    "interesting = data.loc[zoom_range]\n",
    "\n",
    "# plot region of interest\n",
    "plt.plot(interesting['datetime'], interesting['mean'])\n",
    "plt.xticks(rotation=45); # make dates readable"
   ]
  },
  {
   "cell_type": "code",
   "execution_count": null,
   "metadata": {},
   "outputs": [],
   "source": []
  }
 ],
 "metadata": {
  "kernelspec": {
   "display_name": "Python 3",
   "language": "python",
   "name": "python3"
  },
  "language_info": {
   "codemirror_mode": {
    "name": "ipython",
    "version": 3
   },
   "file_extension": ".py",
   "mimetype": "text/x-python",
   "name": "python",
   "nbconvert_exporter": "python",
   "pygments_lexer": "ipython3",
   "version": "3.7.3"
  }
 },
 "nbformat": 4,
 "nbformat_minor": 2
}
